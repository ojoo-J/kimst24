{
 "cells": [
  {
   "cell_type": "code",
   "execution_count": 1,
   "metadata": {},
   "outputs": [
    {
     "name": "stderr",
     "output_type": "stream",
     "text": [
      "/home/youngju/anaconda3/envs/proto/lib/python3.8/site-packages/tqdm/auto.py:21: TqdmWarning: IProgress not found. Please update jupyter and ipywidgets. See https://ipywidgets.readthedocs.io/en/stable/user_install.html\n",
      "  from .autonotebook import tqdm as notebook_tqdm\n"
     ]
    }
   ],
   "source": [
    "import sys\n",
    "sys.path.append('/data2/youngju/kimst24/')\n",
    "import os\n",
    "import argparse\n",
    "import pickle\n",
    "# from splinecam import splinecam\n",
    "import seaborn as sns\n",
    "import matplotlib.pyplot as plt\n",
    "import numpy as np\n",
    "\n",
    "import torch\n",
    "from torch import nn\n",
    "from torchvision.utils import make_grid\n",
    "import torch.nn.functional as F\n",
    "import torchvision.transforms.functional as tF\n",
    "\n",
    "import torchvision\n",
    "import torchvision.transforms as transforms\n",
    "from torchvision import datasets, models\n",
    "from copy import deepcopy\n",
    "\n",
    "import matplotlib.pyplot as plt\n",
    "from matplotlib.patches import Polygon as mpl_Polygon\n",
    "from matplotlib.collections import PatchCollection\n",
    "import matplotlib.colors as mpl_colors\n",
    "import mpl_toolkits.mplot3d as a3\n",
    "\n",
    "import random\n",
    "import numpy as np\n",
    "from networkx import draw as nxdraw\n",
    "from matplotlib.offsetbox import OffsetImage, AnnotationBbox\n",
    "import matplotlib.patches as mpatches\n",
    "from utils.load_dataset import *\n",
    "from utils.visualization import *\n",
    "from utils.config_funcs import *\n",
    "from tqdm import tqdm"
   ]
  },
  {
   "cell_type": "code",
   "execution_count": 2,
   "metadata": {},
   "outputs": [],
   "source": [
    "parser = argparse.ArgumentParser()\n",
    "parser.add_argument(\"--data-path\", type=str, default=\"/data/CUB_200_2011/images\")\n",
    "parser.add_argument(\"--model-path\", type=str, default=\"/data2/youngju/kimst24/outputs_backup/clf_checkpoints/2024-05-01_204226/clf_ep-24_lr-0.001_val-acc-0.7630.pth\")\n",
    "parser.add_argument(\"--pickle-path\", type=str, default=\"/data2/youngju/kimst24/outputs/get_config/train\")\n",
    "parser.add_argument(\"--q_pickle-path\", type=str, default=\"/data2/youngju/kimst24/outputs/get_config/test\")\n",
    "parser.add_argument(\"--q_th\", type=int, default=200)\n",
    "parser.add_argument(\"--seed\", type=int, default=0)\n",
    "parser.add_argument(\"--batch-size\", type=int, default=512)\n",
    "parser.add_argument(\"--num-pickle\", type=int, default=7)\n",
    "parser.add_argument(\"--device\", type=str, default=\"cuda:5\")\n",
    "parser.add_argument(\"--train-ratio\", type=float, default=0.7)\n",
    "parser.add_argument(\"--resolution\", type=int, default=100)\n",
    "\n",
    "\n",
    "args = parser.parse_args(args=[])"
   ]
  },
  {
   "cell_type": "code",
   "execution_count": 3,
   "metadata": {},
   "outputs": [],
   "source": [
    "SEED = args.seed\n",
    "MEAN = (0.485, 0.456, 0.406)\n",
    "STD = (0.229, 0.224, 0.225)\n",
    "random.seed(SEED)\n",
    "np.random.seed(SEED)\n",
    "torch.manual_seed(SEED)\n",
    "torch.cuda.manual_seed_all(SEED)\n",
    "\n",
    "inv_normalize = transforms.Normalize(\n",
    "    mean=[-m/s for m,s in zip(MEAN, STD)],\n",
    "    std=[1/s for s in STD]\n",
    ")"
   ]
  },
  {
   "cell_type": "code",
   "execution_count": 4,
   "metadata": {},
   "outputs": [
    {
     "name": "stderr",
     "output_type": "stream",
     "text": [
      "/home/youngju/anaconda3/envs/proto/lib/python3.8/site-packages/torchvision/models/_utils.py:208: UserWarning: The parameter 'pretrained' is deprecated since 0.13 and will be removed in 0.15, please use 'weights' instead.\n",
      "  warnings.warn(\n",
      "/home/youngju/anaconda3/envs/proto/lib/python3.8/site-packages/torchvision/models/_utils.py:223: UserWarning: Arguments other than a weight enum or `None` for 'weights' are deprecated since 0.13 and will be removed in 0.15. The current behavior is equivalent to passing `weights=None`.\n",
      "  warnings.warn(msg)\n"
     ]
    },
    {
     "data": {
      "text/plain": [
       "ResNet(\n",
       "  (conv1): Conv2d(3, 64, kernel_size=(7, 7), stride=(2, 2), padding=(3, 3), bias=False)\n",
       "  (bn1): BatchNorm2d(64, eps=1e-05, momentum=0.1, affine=True, track_running_stats=True)\n",
       "  (relu): ReLU(inplace=True)\n",
       "  (maxpool): MaxPool2d(kernel_size=3, stride=2, padding=1, dilation=1, ceil_mode=False)\n",
       "  (layer1): Sequential(\n",
       "    (0): Bottleneck(\n",
       "      (conv1): Conv2d(64, 64, kernel_size=(1, 1), stride=(1, 1), bias=False)\n",
       "      (bn1): BatchNorm2d(64, eps=1e-05, momentum=0.1, affine=True, track_running_stats=True)\n",
       "      (conv2): Conv2d(64, 64, kernel_size=(3, 3), stride=(1, 1), padding=(1, 1), bias=False)\n",
       "      (bn2): BatchNorm2d(64, eps=1e-05, momentum=0.1, affine=True, track_running_stats=True)\n",
       "      (conv3): Conv2d(64, 256, kernel_size=(1, 1), stride=(1, 1), bias=False)\n",
       "      (bn3): BatchNorm2d(256, eps=1e-05, momentum=0.1, affine=True, track_running_stats=True)\n",
       "      (relu): ReLU(inplace=True)\n",
       "      (downsample): Sequential(\n",
       "        (0): Conv2d(64, 256, kernel_size=(1, 1), stride=(1, 1), bias=False)\n",
       "        (1): BatchNorm2d(256, eps=1e-05, momentum=0.1, affine=True, track_running_stats=True)\n",
       "      )\n",
       "    )\n",
       "    (1): Bottleneck(\n",
       "      (conv1): Conv2d(256, 64, kernel_size=(1, 1), stride=(1, 1), bias=False)\n",
       "      (bn1): BatchNorm2d(64, eps=1e-05, momentum=0.1, affine=True, track_running_stats=True)\n",
       "      (conv2): Conv2d(64, 64, kernel_size=(3, 3), stride=(1, 1), padding=(1, 1), bias=False)\n",
       "      (bn2): BatchNorm2d(64, eps=1e-05, momentum=0.1, affine=True, track_running_stats=True)\n",
       "      (conv3): Conv2d(64, 256, kernel_size=(1, 1), stride=(1, 1), bias=False)\n",
       "      (bn3): BatchNorm2d(256, eps=1e-05, momentum=0.1, affine=True, track_running_stats=True)\n",
       "      (relu): ReLU(inplace=True)\n",
       "    )\n",
       "    (2): Bottleneck(\n",
       "      (conv1): Conv2d(256, 64, kernel_size=(1, 1), stride=(1, 1), bias=False)\n",
       "      (bn1): BatchNorm2d(64, eps=1e-05, momentum=0.1, affine=True, track_running_stats=True)\n",
       "      (conv2): Conv2d(64, 64, kernel_size=(3, 3), stride=(1, 1), padding=(1, 1), bias=False)\n",
       "      (bn2): BatchNorm2d(64, eps=1e-05, momentum=0.1, affine=True, track_running_stats=True)\n",
       "      (conv3): Conv2d(64, 256, kernel_size=(1, 1), stride=(1, 1), bias=False)\n",
       "      (bn3): BatchNorm2d(256, eps=1e-05, momentum=0.1, affine=True, track_running_stats=True)\n",
       "      (relu): ReLU(inplace=True)\n",
       "    )\n",
       "  )\n",
       "  (layer2): Sequential(\n",
       "    (0): Bottleneck(\n",
       "      (conv1): Conv2d(256, 128, kernel_size=(1, 1), stride=(1, 1), bias=False)\n",
       "      (bn1): BatchNorm2d(128, eps=1e-05, momentum=0.1, affine=True, track_running_stats=True)\n",
       "      (conv2): Conv2d(128, 128, kernel_size=(3, 3), stride=(2, 2), padding=(1, 1), bias=False)\n",
       "      (bn2): BatchNorm2d(128, eps=1e-05, momentum=0.1, affine=True, track_running_stats=True)\n",
       "      (conv3): Conv2d(128, 512, kernel_size=(1, 1), stride=(1, 1), bias=False)\n",
       "      (bn3): BatchNorm2d(512, eps=1e-05, momentum=0.1, affine=True, track_running_stats=True)\n",
       "      (relu): ReLU(inplace=True)\n",
       "      (downsample): Sequential(\n",
       "        (0): Conv2d(256, 512, kernel_size=(1, 1), stride=(2, 2), bias=False)\n",
       "        (1): BatchNorm2d(512, eps=1e-05, momentum=0.1, affine=True, track_running_stats=True)\n",
       "      )\n",
       "    )\n",
       "    (1): Bottleneck(\n",
       "      (conv1): Conv2d(512, 128, kernel_size=(1, 1), stride=(1, 1), bias=False)\n",
       "      (bn1): BatchNorm2d(128, eps=1e-05, momentum=0.1, affine=True, track_running_stats=True)\n",
       "      (conv2): Conv2d(128, 128, kernel_size=(3, 3), stride=(1, 1), padding=(1, 1), bias=False)\n",
       "      (bn2): BatchNorm2d(128, eps=1e-05, momentum=0.1, affine=True, track_running_stats=True)\n",
       "      (conv3): Conv2d(128, 512, kernel_size=(1, 1), stride=(1, 1), bias=False)\n",
       "      (bn3): BatchNorm2d(512, eps=1e-05, momentum=0.1, affine=True, track_running_stats=True)\n",
       "      (relu): ReLU(inplace=True)\n",
       "    )\n",
       "    (2): Bottleneck(\n",
       "      (conv1): Conv2d(512, 128, kernel_size=(1, 1), stride=(1, 1), bias=False)\n",
       "      (bn1): BatchNorm2d(128, eps=1e-05, momentum=0.1, affine=True, track_running_stats=True)\n",
       "      (conv2): Conv2d(128, 128, kernel_size=(3, 3), stride=(1, 1), padding=(1, 1), bias=False)\n",
       "      (bn2): BatchNorm2d(128, eps=1e-05, momentum=0.1, affine=True, track_running_stats=True)\n",
       "      (conv3): Conv2d(128, 512, kernel_size=(1, 1), stride=(1, 1), bias=False)\n",
       "      (bn3): BatchNorm2d(512, eps=1e-05, momentum=0.1, affine=True, track_running_stats=True)\n",
       "      (relu): ReLU(inplace=True)\n",
       "    )\n",
       "    (3): Bottleneck(\n",
       "      (conv1): Conv2d(512, 128, kernel_size=(1, 1), stride=(1, 1), bias=False)\n",
       "      (bn1): BatchNorm2d(128, eps=1e-05, momentum=0.1, affine=True, track_running_stats=True)\n",
       "      (conv2): Conv2d(128, 128, kernel_size=(3, 3), stride=(1, 1), padding=(1, 1), bias=False)\n",
       "      (bn2): BatchNorm2d(128, eps=1e-05, momentum=0.1, affine=True, track_running_stats=True)\n",
       "      (conv3): Conv2d(128, 512, kernel_size=(1, 1), stride=(1, 1), bias=False)\n",
       "      (bn3): BatchNorm2d(512, eps=1e-05, momentum=0.1, affine=True, track_running_stats=True)\n",
       "      (relu): ReLU(inplace=True)\n",
       "    )\n",
       "  )\n",
       "  (layer3): Sequential(\n",
       "    (0): Bottleneck(\n",
       "      (conv1): Conv2d(512, 256, kernel_size=(1, 1), stride=(1, 1), bias=False)\n",
       "      (bn1): BatchNorm2d(256, eps=1e-05, momentum=0.1, affine=True, track_running_stats=True)\n",
       "      (conv2): Conv2d(256, 256, kernel_size=(3, 3), stride=(2, 2), padding=(1, 1), bias=False)\n",
       "      (bn2): BatchNorm2d(256, eps=1e-05, momentum=0.1, affine=True, track_running_stats=True)\n",
       "      (conv3): Conv2d(256, 1024, kernel_size=(1, 1), stride=(1, 1), bias=False)\n",
       "      (bn3): BatchNorm2d(1024, eps=1e-05, momentum=0.1, affine=True, track_running_stats=True)\n",
       "      (relu): ReLU(inplace=True)\n",
       "      (downsample): Sequential(\n",
       "        (0): Conv2d(512, 1024, kernel_size=(1, 1), stride=(2, 2), bias=False)\n",
       "        (1): BatchNorm2d(1024, eps=1e-05, momentum=0.1, affine=True, track_running_stats=True)\n",
       "      )\n",
       "    )\n",
       "    (1): Bottleneck(\n",
       "      (conv1): Conv2d(1024, 256, kernel_size=(1, 1), stride=(1, 1), bias=False)\n",
       "      (bn1): BatchNorm2d(256, eps=1e-05, momentum=0.1, affine=True, track_running_stats=True)\n",
       "      (conv2): Conv2d(256, 256, kernel_size=(3, 3), stride=(1, 1), padding=(1, 1), bias=False)\n",
       "      (bn2): BatchNorm2d(256, eps=1e-05, momentum=0.1, affine=True, track_running_stats=True)\n",
       "      (conv3): Conv2d(256, 1024, kernel_size=(1, 1), stride=(1, 1), bias=False)\n",
       "      (bn3): BatchNorm2d(1024, eps=1e-05, momentum=0.1, affine=True, track_running_stats=True)\n",
       "      (relu): ReLU(inplace=True)\n",
       "    )\n",
       "    (2): Bottleneck(\n",
       "      (conv1): Conv2d(1024, 256, kernel_size=(1, 1), stride=(1, 1), bias=False)\n",
       "      (bn1): BatchNorm2d(256, eps=1e-05, momentum=0.1, affine=True, track_running_stats=True)\n",
       "      (conv2): Conv2d(256, 256, kernel_size=(3, 3), stride=(1, 1), padding=(1, 1), bias=False)\n",
       "      (bn2): BatchNorm2d(256, eps=1e-05, momentum=0.1, affine=True, track_running_stats=True)\n",
       "      (conv3): Conv2d(256, 1024, kernel_size=(1, 1), stride=(1, 1), bias=False)\n",
       "      (bn3): BatchNorm2d(1024, eps=1e-05, momentum=0.1, affine=True, track_running_stats=True)\n",
       "      (relu): ReLU(inplace=True)\n",
       "    )\n",
       "    (3): Bottleneck(\n",
       "      (conv1): Conv2d(1024, 256, kernel_size=(1, 1), stride=(1, 1), bias=False)\n",
       "      (bn1): BatchNorm2d(256, eps=1e-05, momentum=0.1, affine=True, track_running_stats=True)\n",
       "      (conv2): Conv2d(256, 256, kernel_size=(3, 3), stride=(1, 1), padding=(1, 1), bias=False)\n",
       "      (bn2): BatchNorm2d(256, eps=1e-05, momentum=0.1, affine=True, track_running_stats=True)\n",
       "      (conv3): Conv2d(256, 1024, kernel_size=(1, 1), stride=(1, 1), bias=False)\n",
       "      (bn3): BatchNorm2d(1024, eps=1e-05, momentum=0.1, affine=True, track_running_stats=True)\n",
       "      (relu): ReLU(inplace=True)\n",
       "    )\n",
       "    (4): Bottleneck(\n",
       "      (conv1): Conv2d(1024, 256, kernel_size=(1, 1), stride=(1, 1), bias=False)\n",
       "      (bn1): BatchNorm2d(256, eps=1e-05, momentum=0.1, affine=True, track_running_stats=True)\n",
       "      (conv2): Conv2d(256, 256, kernel_size=(3, 3), stride=(1, 1), padding=(1, 1), bias=False)\n",
       "      (bn2): BatchNorm2d(256, eps=1e-05, momentum=0.1, affine=True, track_running_stats=True)\n",
       "      (conv3): Conv2d(256, 1024, kernel_size=(1, 1), stride=(1, 1), bias=False)\n",
       "      (bn3): BatchNorm2d(1024, eps=1e-05, momentum=0.1, affine=True, track_running_stats=True)\n",
       "      (relu): ReLU(inplace=True)\n",
       "    )\n",
       "    (5): Bottleneck(\n",
       "      (conv1): Conv2d(1024, 256, kernel_size=(1, 1), stride=(1, 1), bias=False)\n",
       "      (bn1): BatchNorm2d(256, eps=1e-05, momentum=0.1, affine=True, track_running_stats=True)\n",
       "      (conv2): Conv2d(256, 256, kernel_size=(3, 3), stride=(1, 1), padding=(1, 1), bias=False)\n",
       "      (bn2): BatchNorm2d(256, eps=1e-05, momentum=0.1, affine=True, track_running_stats=True)\n",
       "      (conv3): Conv2d(256, 1024, kernel_size=(1, 1), stride=(1, 1), bias=False)\n",
       "      (bn3): BatchNorm2d(1024, eps=1e-05, momentum=0.1, affine=True, track_running_stats=True)\n",
       "      (relu): ReLU(inplace=True)\n",
       "    )\n",
       "  )\n",
       "  (layer4): Sequential(\n",
       "    (0): Bottleneck(\n",
       "      (conv1): Conv2d(1024, 512, kernel_size=(1, 1), stride=(1, 1), bias=False)\n",
       "      (bn1): BatchNorm2d(512, eps=1e-05, momentum=0.1, affine=True, track_running_stats=True)\n",
       "      (conv2): Conv2d(512, 512, kernel_size=(3, 3), stride=(2, 2), padding=(1, 1), bias=False)\n",
       "      (bn2): BatchNorm2d(512, eps=1e-05, momentum=0.1, affine=True, track_running_stats=True)\n",
       "      (conv3): Conv2d(512, 2048, kernel_size=(1, 1), stride=(1, 1), bias=False)\n",
       "      (bn3): BatchNorm2d(2048, eps=1e-05, momentum=0.1, affine=True, track_running_stats=True)\n",
       "      (relu): ReLU(inplace=True)\n",
       "      (downsample): Sequential(\n",
       "        (0): Conv2d(1024, 2048, kernel_size=(1, 1), stride=(2, 2), bias=False)\n",
       "        (1): BatchNorm2d(2048, eps=1e-05, momentum=0.1, affine=True, track_running_stats=True)\n",
       "      )\n",
       "    )\n",
       "    (1): Bottleneck(\n",
       "      (conv1): Conv2d(2048, 512, kernel_size=(1, 1), stride=(1, 1), bias=False)\n",
       "      (bn1): BatchNorm2d(512, eps=1e-05, momentum=0.1, affine=True, track_running_stats=True)\n",
       "      (conv2): Conv2d(512, 512, kernel_size=(3, 3), stride=(1, 1), padding=(1, 1), bias=False)\n",
       "      (bn2): BatchNorm2d(512, eps=1e-05, momentum=0.1, affine=True, track_running_stats=True)\n",
       "      (conv3): Conv2d(512, 2048, kernel_size=(1, 1), stride=(1, 1), bias=False)\n",
       "      (bn3): BatchNorm2d(2048, eps=1e-05, momentum=0.1, affine=True, track_running_stats=True)\n",
       "      (relu): ReLU(inplace=True)\n",
       "    )\n",
       "    (2): Bottleneck(\n",
       "      (conv1): Conv2d(2048, 512, kernel_size=(1, 1), stride=(1, 1), bias=False)\n",
       "      (bn1): BatchNorm2d(512, eps=1e-05, momentum=0.1, affine=True, track_running_stats=True)\n",
       "      (conv2): Conv2d(512, 512, kernel_size=(3, 3), stride=(1, 1), padding=(1, 1), bias=False)\n",
       "      (bn2): BatchNorm2d(512, eps=1e-05, momentum=0.1, affine=True, track_running_stats=True)\n",
       "      (conv3): Conv2d(512, 2048, kernel_size=(1, 1), stride=(1, 1), bias=False)\n",
       "      (bn3): BatchNorm2d(2048, eps=1e-05, momentum=0.1, affine=True, track_running_stats=True)\n",
       "      (relu): ReLU(inplace=True)\n",
       "    )\n",
       "  )\n",
       "  (avgpool): AdaptiveAvgPool2d(output_size=(1, 1))\n",
       "  (fc): Linear(in_features=2048, out_features=200, bias=True)\n",
       ")"
      ]
     },
     "execution_count": 4,
     "metadata": {},
     "output_type": "execute_result"
    }
   ],
   "source": [
    "model = models.resnet50(pretrained=False)\n",
    "model.fc = nn.Linear(2048, 200)\n",
    "model.load_state_dict(torch.load(args.model_path))\n",
    "model = model.to(args.device)\n",
    "model.eval()"
   ]
  },
  {
   "cell_type": "code",
   "execution_count": 28,
   "metadata": {},
   "outputs": [],
   "source": [
    "train_loader, val_loader, test_loader = get_CUB_loaders(args.data_path, args.batch_size, args.train_ratio, train=True)"
   ]
  },
  {
   "cell_type": "code",
   "execution_count": 6,
   "metadata": {},
   "outputs": [],
   "source": [
    "with open(f\"{args.pickle_path}/total_activation.pkl\",\"rb\") as fr:\n",
    "    ac_total = torch.sign(pickle.load(fr))\n",
    "with open(f\"{args.pickle_path}/total_activation.pkl\",\"rb\") as fr:\n",
    "    h_total = pickle.load(fr)\n",
    "with open(f\"{args.pickle_path}/total_eq.pkl\",\"rb\") as fr:\n",
    "    eq_total = pickle.load(fr)\n",
    "with open(f\"{args.pickle_path}/total_x.pkl\",\"rb\") as fr:\n",
    "    x_total = pickle.load(fr)\n",
    "with open(f\"{args.pickle_path}/total_y.pkl\",\"rb\") as fr:\n",
    "    y_total = pickle.load(fr)\n",
    "with open(f\"{args.pickle_path}/total_preds.pkl\",\"rb\") as fr:\n",
    "    preds_total = pickle.load(fr).cpu().detach()\n",
    "with open(f\"{args.pickle_path}/total_probs.pkl\",\"rb\") as fr:\n",
    "    probs_total = pickle.load(fr).cpu().detach()"
   ]
  },
  {
   "cell_type": "code",
   "execution_count": 7,
   "metadata": {},
   "outputs": [],
   "source": [
    "with open(f\"{args.q_pickle_path}/total_activation.pkl\",\"rb\") as fr:\n",
    "    q_ac_total = torch.sign(pickle.load(fr))\n",
    "with open(f\"{args.q_pickle_path}/total_activation.pkl\",\"rb\") as fr:\n",
    "    q_h_total = pickle.load(fr)\n",
    "with open(f\"{args.q_pickle_path}/total_eq.pkl\",\"rb\") as fr:\n",
    "    q_eq_total = pickle.load(fr)\n",
    "with open(f\"{args.q_pickle_path}/total_x.pkl\",\"rb\") as fr:\n",
    "    q_x_total = pickle.load(fr)\n",
    "with open(f\"{args.q_pickle_path}/total_y.pkl\",\"rb\") as fr:\n",
    "    q_y_total = pickle.load(fr)\n",
    "with open(f\"{args.q_pickle_path}/total_preds.pkl\",\"rb\") as fr:\n",
    "    q_preds_total = pickle.load(fr).cpu().detach()\n",
    "with open(f\"{args.q_pickle_path}/total_probs.pkl\",\"rb\") as fr:\n",
    "    q_probs_total = pickle.load(fr).cpu().detach()"
   ]
  },
  {
   "cell_type": "code",
   "execution_count": 8,
   "metadata": {},
   "outputs": [],
   "source": [
    "def get_plane(img1, img2, img3):\n",
    "    ''' Calculate the plane (basis vecs) spanned by 3 images\n",
    "    Input: 3 image tensors of the same size\n",
    "    Output: two (orthogonal) basis vectors for the plane spanned by them, and\n",
    "    the second vector (before being made orthogonal)\n",
    "    '''\n",
    "    a = img2 - img1 \n",
    "    b = img3 - img1 \n",
    "    a_norm = torch.dot(a.flatten(), a.flatten()).sqrt()\n",
    "    a = a / a_norm\n",
    "    first_coef = torch.dot(a.flatten(), b.flatten())\n",
    "    b_orthog = b - first_coef * a\n",
    "    b_orthog_norm = torch.dot(b_orthog.flatten(), b_orthog.flatten()).sqrt()\n",
    "    b_orthog = b_orthog / b_orthog_norm \n",
    "    second_coef = torch.dot(b.flatten(), b_orthog.flatten())\n",
    "    coords = [[0,0], [a_norm,0], [first_coef, second_coef]]\n",
    "    return a, b_orthog, b, coords # a, b_orthog 직교 (둘다 normalized 완료)"
   ]
  },
  {
   "cell_type": "code",
   "execution_count": 9,
   "metadata": {},
   "outputs": [],
   "source": [
    "class plane_dataset(torch.utils.data.Dataset):\n",
    "    def __init__(self, base_img, vec1, vec2, coords, resolution=0.2,\n",
    "                    range_l=.1, range_r=.1):\n",
    "        self.base_img = base_img\n",
    "        self.vec1 = vec1\n",
    "        self.vec2 = vec2\n",
    "        self.coords = coords\n",
    "        self.resolution = resolution\n",
    "        x_bounds = [coord[0] for coord in coords]\n",
    "        y_bounds = [coord[1] for coord in coords]\n",
    "\n",
    "        self.bound1 = [torch.min(torch.tensor(x_bounds)), torch.max(torch.tensor(x_bounds))]\n",
    "        self.bound2 = [torch.min(torch.tensor(y_bounds)), torch.max(torch.tensor(y_bounds))]\n",
    "\n",
    "        len1 = self.bound1[-1] - self.bound1[0]\n",
    "        len2 = self.bound2[-1] - self.bound2[0]\n",
    "\n",
    "        list1 = torch.linspace(self.bound1[0] - range_l*len1, self.bound1[1] + range_r*len1, int(resolution))\n",
    "        list2 = torch.linspace(self.bound2[0] - range_l*len2, self.bound2[1] + range_r*len2, int(resolution))\n",
    "\n",
    "        self.grid = torch.meshgrid([list1,list2])\n",
    "\n",
    "        self.coefs1 = self.grid[0].flatten()\n",
    "        self.coefs2 = self.grid[1].flatten()\n",
    "\n",
    "    def __len__(self):\n",
    "        return self.coefs1.shape[0]\n",
    "\n",
    "    def __getitem__(self, idx):\n",
    "        return self.base_img + self.coefs1[idx] * self.vec1 + self.coefs2[idx] * self.vec2"
   ]
  },
  {
   "cell_type": "code",
   "execution_count": 10,
   "metadata": {},
   "outputs": [],
   "source": [
    "def make_planeloader(images):\n",
    "    a, b_orthog, b, coords = get_plane(images[0], images[1], images[2])\n",
    "\n",
    "    planeset = plane_dataset(images[0], a, b_orthog, coords, resolution=500, range_l=0.1, range_r=0.1) # 500x500\n",
    "\n",
    "    planeloader = torch.utils.data.DataLoader(\n",
    "        planeset, batch_size=args.batch_size, shuffle=False, num_workers=0)\n",
    "    return planeloader"
   ]
  },
  {
   "cell_type": "code",
   "execution_count": 11,
   "metadata": {},
   "outputs": [],
   "source": [
    "def make_pred_for_grid(model, space_name, loader, device, flow_model=None):\n",
    "    model.eval()\n",
    "    predicted_labels = []\n",
    "    if space_name == 'x':\n",
    "        with torch.no_grad():\n",
    "            for batch_idx, inputs in enumerate(loader):\n",
    "                inputs = inputs.to(device)\n",
    "                outputs = model(inputs)\n",
    "                for output in outputs:\n",
    "                    predicted_labels.append(output)\n",
    "    else:\n",
    "        with torch.no_grad():\n",
    "            for batch_idx, inputs in enumerate(loader):\n",
    "                inputs = inputs.to(device)\n",
    "                outputs = model(flow_model.decode(inputs))\n",
    "                for output in outputs:\n",
    "                    predicted_labels.append(output)\n",
    "    return predicted_labels"
   ]
  },
  {
   "cell_type": "code",
   "execution_count": 12,
   "metadata": {},
   "outputs": [],
   "source": [
    "def imscatter(x, y, image, ax=None, zoom=1):\n",
    "    im = OffsetImage(image, zoom=zoom)\n",
    "    x, y = np.atleast_1d(x, y)\n",
    "    artists = []\n",
    "    ab = AnnotationBbox(im, (x, y), xycoords='data', frameon=False)\n",
    "    artists.append(ax.add_artist(ab))\n",
    "    ax.update_datalim(np.column_stack([x, y]))\n",
    "    ax.autoscale()\n",
    "    return artists"
   ]
  },
  {
   "cell_type": "code",
   "execution_count": 13,
   "metadata": {},
   "outputs": [],
   "source": [
    "def produce_plot_alt(path, preds, planeloader, images, labels, MEAN, STD, temp=5.0):\n",
    "    from matplotlib import cm\n",
    "    from matplotlib.colors import LinearSegmentedColormap\n",
    "    col_map = cm.get_cmap('tab10')\n",
    "    cmaplist = [col_map(i) for i in range(col_map.N)]\n",
    "    classes = ['0', '1', '2', '3', '4',\n",
    "                   '5', '6', '7', '8', '9']\n",
    "\n",
    "    cmaplist = cmaplist[:len(classes)]\n",
    "    col_map = LinearSegmentedColormap.from_list('custom_colormap', cmaplist, N=len(classes))\n",
    "    fig, ax1 = plt.subplots()\n",
    "    import torch.nn as nn\n",
    "    preds = torch.stack((preds))\n",
    "    preds = nn.Softmax(dim=1)(preds) #/ temp)\n",
    "    val = torch.max(preds,dim=1)[0].cpu().numpy()\n",
    "    class_pred = torch.argmax(preds, dim=1).cpu().numpy()\n",
    "    x = planeloader.dataset.coefs1.cpu().numpy()\n",
    "    y = planeloader.dataset.coefs2.cpu().numpy()\n",
    "    label_color_dict = dict(zip([*range(10)], cmaplist))\n",
    "\n",
    "    color_idx = [label_color_dict[label] for label in class_pred] # class_pred\n",
    "    scatter = ax1.scatter(x, y, c=color_idx, alpha=val, s=0.1)\n",
    "    markers = [plt.Line2D([0,0],[0,0],color=color, marker='o', linestyle='') for color in label_color_dict.values()]\n",
    "    legend1 = plt.legend(markers, classes, numpoints=1,bbox_to_anchor=(1.01, 1))\n",
    "    ax1.add_artist(legend1)\n",
    "    coords = planeloader.dataset.coords\n",
    "\n",
    "    dm = torch.tensor(MEAN)[:, None, None]\n",
    "    ds = torch.tensor(STD)[:, None, None]\n",
    "    for i, image in enumerate(images):\n",
    "        # import ipdb; ipdb.set_trace()\n",
    "        #img = torch.clamp(image * ds + dm, 0, 1)\n",
    "        img = inv_normalize(image)\n",
    "        img = img.cpu().numpy().transpose(1,2,0)\n",
    "        if img.shape[0] > 32:\n",
    "            from PIL import Image\n",
    "            img = img*255\n",
    "            img = img.astype(np.uint8)\n",
    "            img = Image.fromarray(img).resize(size=(32, 32))\n",
    "            img = np.array(img)\n",
    "\n",
    "        coord = coords[i]\n",
    "        imscatter(coord[0], coord[1], img, ax1)\n",
    "\n",
    "    red_patch = mpatches.Patch(color =cmaplist[labels[0]] , label=f'{classes[labels[0]]}')\n",
    "    blue_patch = mpatches.Patch(color =cmaplist[labels[1]], label=f'{classes[labels[1]]}')\n",
    "    green_patch = mpatches.Patch(color =cmaplist[labels[2]], label=f'{classes[labels[2]]}')\n",
    "    plt.legend(handles=[red_patch, blue_patch, green_patch], loc='upper center', bbox_to_anchor=(0.5, 1.05),\n",
    "              ncol=3, fancybox=True, shadow=True)\n",
    "    plt.title('Hyperplane in X-space')\n",
    "    \n",
    "    if not os.path.exists(path):\n",
    "        os.makedirs(path)\n",
    "        \n",
    "    if path is not None:\n",
    "        img_dir = '/'.join([p for p in (path.split('/'))[:-1]])\n",
    "        os.makedirs(img_dir, exist_ok=True)\n",
    "        #os.makedirs(path.split, exist_ok=True)\n",
    "        plt.savefig(f'{path}/x-space.png',bbox_extra_artists=(legend1,), bbox_inches='tight')\n",
    "    plt.close(fig)\n",
    "    return"
   ]
  },
  {
   "cell_type": "code",
   "execution_count": 29,
   "metadata": {},
   "outputs": [],
   "source": [
    "for x, y in train_loader:\n",
    "    three_points_x = x[:3]\n",
    "    three_points_y = y[:3]"
   ]
  },
  {
   "cell_type": "code",
   "execution_count": 31,
   "metadata": {},
   "outputs": [
    {
     "data": {
      "text/plain": [
       "(torch.Size([3, 3, 224, 224]), torch.Size([3]))"
      ]
     },
     "execution_count": 31,
     "metadata": {},
     "output_type": "execute_result"
    }
   ],
   "source": [
    "three_points_x.shape, three_points_y.shape"
   ]
  },
  {
   "cell_type": "code",
   "execution_count": 32,
   "metadata": {},
   "outputs": [],
   "source": [
    "q_idx = 304\n",
    "local_samples = get_local_nearest_idx_euc(q_h_total[q_idx], h_total, th=args.q_th)"
   ]
  },
  {
   "cell_type": "code",
   "execution_count": 56,
   "metadata": {},
   "outputs": [],
   "source": [
    "three_points_x = torch.stack([q_x_total[q_idx], x_total[local_samples[0]], x_total[local_samples[1]]])\n",
    "three_points_preds = torch.tensor([q_preds_total[q_idx].item(), preds_total[local_samples[0]].item(), preds_total[local_samples[1]].item()])\n",
    "three_points_y = torch.tensor([q_y_total[q_idx].item(), y_total[local_samples[0]].item(), y_total[local_samples[1]].item()])"
   ]
  },
  {
   "cell_type": "code",
   "execution_count": 57,
   "metadata": {},
   "outputs": [],
   "source": [
    "images = three_points_x.float()\n",
    "labels = three_points_y"
   ]
  },
  {
   "cell_type": "code",
   "execution_count": 38,
   "metadata": {},
   "outputs": [],
   "source": [
    "a, b_orthog, b, coords = get_plane(images[0],\n",
    "                                    images[1],\n",
    "                                    images[2])\n",
    "planeloader = make_planeloader(images)"
   ]
  },
  {
   "cell_type": "code",
   "execution_count": 59,
   "metadata": {},
   "outputs": [
    {
     "data": {
      "text/plain": [
       "([[0, 0], [tensor(548.2311), 0], [tensor(553.1620), tensor(509.4969)]],\n",
       " tensor([[  0.0000,   0.0000],\n",
       "         [548.2311,   0.0000],\n",
       "         [553.1620, 509.4969]]))"
      ]
     },
     "execution_count": 59,
     "metadata": {},
     "output_type": "execute_result"
    }
   ],
   "source": [
    "# 2D coordinates of three anchor points\n",
    "coords_ = np.array([\n",
    "    (0, 0), \n",
    "    (coords[1][0].item(), 0), \n",
    "    (coords[2][0].item(), coords[2][1].item()),\n",
    "])\n",
    "\n",
    "coords_ = torch.from_numpy(coords_).type(torch.float32)\n",
    "coords, coords_"
   ]
  },
  {
   "cell_type": "code",
   "execution_count": 60,
   "metadata": {},
   "outputs": [
    {
     "data": {
      "text/plain": [
       "torch.Size([150528, 3])"
      ]
     },
     "execution_count": 60,
     "metadata": {},
     "output_type": "execute_result"
    }
   ],
   "source": [
    "T = torch.stack([a, b_orthog, images[0]]).flatten(start_dim=1).T.double()\n",
    "T.shape"
   ]
  },
  {
   "cell_type": "code",
   "execution_count": 61,
   "metadata": {},
   "outputs": [],
   "source": [
    "xx, yy = planeloader.dataset.grid\n",
    "grid = torch.stack([xx, yy])\n",
    "grid = grid.reshape(-1,2)\n",
    "\n",
    "# upper and lower bounds\n",
    "xlow, ylow = grid[:, 0].min(), grid[:, 1].min()\n",
    "xhigh, yhigh = grid[:, 0].max(), grid[:, 1].max()"
   ]
  },
  {
   "cell_type": "code",
   "execution_count": 62,
   "metadata": {},
   "outputs": [
    {
     "name": "stdout",
     "output_type": "stream",
     "text": [
      "tensor([[-55.3162, -55.3162],\n",
      "        [-55.3162, 608.4783],\n",
      "        [608.4783, 608.4783],\n",
      "        [608.4783, -55.3162],\n",
      "        [-55.3162, -55.3162]])\n",
      "tensor([[-56.8162, -56.8162],\n",
      "        [-56.8162, 609.9783],\n",
      "        [609.9783, 609.9783],\n",
      "        [609.9783, -56.8162],\n",
      "        [-56.8162, -56.8162]])\n"
     ]
    }
   ],
   "source": [
    "domain = torch.tensor([\n",
    "    [xlow, ylow],\n",
    "    [xlow, yhigh],\n",
    "    [xhigh, yhigh],\n",
    "    [xhigh, ylow],\n",
    "    [xlow, ylow]\n",
    "])\n",
    "print(domain)\n",
    "domain += np.sign(domain)*1.5\n",
    "poly = domain.double()\n",
    "print (domain)"
   ]
  },
  {
   "cell_type": "code",
   "execution_count": 63,
   "metadata": {},
   "outputs": [],
   "source": [
    "xx, yy = np.meshgrid(np.linspace(xlow, xhigh, args.resolution), np.linspace(ylow, yhigh, args.resolution))\n",
    "inp = torch.from_numpy(np.stack([xx, yy], axis=2).reshape(-1, 2)).to(args.device).double()"
   ]
  },
  {
   "cell_type": "code",
   "execution_count": 64,
   "metadata": {},
   "outputs": [],
   "source": [
    "# x_total[local_samples[0]].shape"
   ]
  },
  {
   "cell_type": "code",
   "execution_count": 65,
   "metadata": {},
   "outputs": [],
   "source": [
    "# ((T[...,:-1] @ inp.cpu().detach().T + T[...,-1:]).T).shape"
   ]
  },
  {
   "cell_type": "code",
   "execution_count": 66,
   "metadata": {},
   "outputs": [],
   "source": [
    "# x_total[0].shape"
   ]
  },
  {
   "cell_type": "code",
   "execution_count": 67,
   "metadata": {},
   "outputs": [],
   "source": [
    "# 3*224*224"
   ]
  },
  {
   "cell_type": "code",
   "execution_count": 68,
   "metadata": {},
   "outputs": [],
   "source": [
    "inp_h_dim = ((T[...,:-1] @ inp.cpu().detach().T + T[...,-1:]).T).reshape(10000, 3, 224, 224)"
   ]
  },
  {
   "cell_type": "code",
   "execution_count": 69,
   "metadata": {},
   "outputs": [],
   "source": [
    "loader = DataLoader(inp_h_dim, batch_size= 64)"
   ]
  },
  {
   "cell_type": "code",
   "execution_count": 70,
   "metadata": {},
   "outputs": [
    {
     "name": "stderr",
     "output_type": "stream",
     "text": [
      "100%|██████████| 157/157 [00:11<00:00, 13.88it/s]\n"
     ]
    }
   ],
   "source": [
    "with torch.no_grad():\n",
    "    outputs_list = []\n",
    "    for batch in tqdm(loader):\n",
    "        output = model(batch.float().to(args.device))\n",
    "        pred = output.argmax(dim=1)\n",
    "        outputs_list.append(pred)\n",
    "out_class = torch.cat(outputs_list)"
   ]
  },
  {
   "cell_type": "code",
   "execution_count": 89,
   "metadata": {},
   "outputs": [],
   "source": [
    "classes = []\n",
    "for i, c in enumerate(list(np.unique(np.array(out_class.cpu().detach())))):\n",
    "    classes.append(f'{c}')\n"
   ]
  },
  {
   "cell_type": "code",
   "execution_count": 90,
   "metadata": {},
   "outputs": [],
   "source": [
    "classes_total = classes.copy()\n",
    "if labels[0].item() not in classes:\n",
    "    classes_total.append(f'{labels[0].item()}')"
   ]
  },
  {
   "cell_type": "code",
   "execution_count": 87,
   "metadata": {},
   "outputs": [
    {
     "data": {
      "text/plain": [
       "False"
      ]
     },
     "execution_count": 87,
     "metadata": {},
     "output_type": "execute_result"
    }
   ],
   "source": [
    "labels[0].item() not in classes"
   ]
  },
  {
   "cell_type": "code",
   "execution_count": 86,
   "metadata": {},
   "outputs": [
    {
     "data": {
      "text/plain": [
       "['129', 132]"
      ]
     },
     "execution_count": 86,
     "metadata": {},
     "output_type": "execute_result"
    }
   ],
   "source": [
    "classes_total"
   ]
  },
  {
   "cell_type": "code",
   "execution_count": 93,
   "metadata": {},
   "outputs": [],
   "source": [
    "class_idx_dict = {string : i for i,string in enumerate(classes_total)}"
   ]
  },
  {
   "cell_type": "code",
   "execution_count": 94,
   "metadata": {},
   "outputs": [
    {
     "data": {
      "text/plain": [
       "{'129': 0, '132': 1}"
      ]
     },
     "execution_count": 94,
     "metadata": {},
     "output_type": "execute_result"
    }
   ],
   "source": [
    "class_idx_dict"
   ]
  },
  {
   "cell_type": "code",
   "execution_count": 97,
   "metadata": {},
   "outputs": [
    {
     "data": {
      "text/plain": [
       "['129', '132']"
      ]
     },
     "execution_count": 97,
     "metadata": {},
     "output_type": "execute_result"
    }
   ],
   "source": [
    "classes_total"
   ]
  },
  {
   "cell_type": "code",
   "execution_count": 98,
   "metadata": {},
   "outputs": [],
   "source": [
    "label_color_dict = dict(zip([*range(len(classes_total))], cmaplist))"
   ]
  },
  {
   "cell_type": "code",
   "execution_count": 99,
   "metadata": {},
   "outputs": [
    {
     "data": {
      "text/plain": [
       "{0: (1.0, 0.0, 0.0, 1.0), 1: (1.0, 0.0, 0.0, 1.0)}"
      ]
     },
     "execution_count": 99,
     "metadata": {},
     "output_type": "execute_result"
    }
   ],
   "source": [
    "label_color_dict"
   ]
  },
  {
   "cell_type": "code",
   "execution_count": 100,
   "metadata": {},
   "outputs": [
    {
     "data": {
      "image/png": "[encoded data removed]",
      "text/html": [
       "<div style=\"vertical-align: middle;\"><strong>custom_colormap</strong> </div><div class=\"cmap\"><img alt=\"custom_colormap colormap\" title=\"custom_colormap\" style=\"border: 1px solid #555;\" src=\"data:image/png;base64,iVBORw0KGgoAAAANSUhEUgAAAgAAAABACAYAAABsv8+/AAAAHnRFWHRUaXRsZQBjdXN0b21fY29sb3JtYXAgY29sb3JtYXB5JmvcAAAAJHRFWHREZXNjcmlwdGlvbgBjdXN0b21fY29sb3JtYXAgY29sb3JtYXCzmoKzAAAAMHRFWHRBdXRob3IATWF0cGxvdGxpYiB2My43LjUsIGh0dHBzOi8vbWF0cGxvdGxpYi5vcmfRErK2AAAAMnRFWHRTb2Z0d2FyZQBNYXRwbG90bGliIHYzLjcuNSwgaHR0cHM6Ly9tYXRwbG90bGliLm9yZ/+0LZEAAAElSURBVHic7dYxAQAgDMCwgX/P4AKOJgp6dp2ZMwBAyv4dAAC8ZwAAIMgAAECQAQCAIAMAAEEGAACCDAAABBkAAAgyAAAQZAAAIMgAAECQAQCAIAMAAEEGAACCDAAABBkAAAgyAAAQZAAAIMgAAECQAQCAIAMAAEEGAACCDAAABBkAAAgyAAAQZAAAIMgAAECQAQCAIAMAAEEGAACCDAAABBkAAAgyAAAQZAAAIMgAAECQAQCAIAMAAEEGAACCDAAABBkAAAgyAAAQZAAAIMgAAECQAQCAIAMAAEEGAACCDAAABBkAAAgyAAAQZAAAIMgAAECQAQCAIAMAAEEGAACCDAAABBkAAAgyAAAQZAAAIMgAAECQAQCAIAMAAEEGAACCDAAABF3OJwJ+oWZYuQAAAABJRU5ErkJggg==\"></div><div style=\"vertical-align: middle; max-width: 514px; display: flex; justify-content: space-between;\"><div style=\"float: left;\"><div title=\"#ff0000ff\" style=\"display: inline-block; width: 1em; height: 1em; margin: 0; vertical-align: middle; border: 1px solid #555; background-color: #ff0000ff;\"></div> under</div><div style=\"margin: 0 auto; display: inline-block;\">bad <div title=\"#00000000\" style=\"display: inline-block; width: 1em; height: 1em; margin: 0; vertical-align: middle; border: 1px solid #555; background-color: #00000000;\"></div></div><div style=\"float: right;\">over <div title=\"#ff0000ff\" style=\"display: inline-block; width: 1em; height: 1em; margin: 0; vertical-align: middle; border: 1px solid #555; background-color: #ff0000ff;\"></div></div>"
      ],
      "text/plain": [
       "<matplotlib.colors.LinearSegmentedColormap at 0x7f20c647e550>"
      ]
     },
     "execution_count": 100,
     "metadata": {},
     "output_type": "execute_result"
    }
   ],
   "source": [
    "col_map"
   ]
  },
  {
   "cell_type": "code",
   "execution_count": 95,
   "metadata": {},
   "outputs": [
    {
     "name": "stderr",
     "output_type": "stream",
     "text": [
      "/tmp/ipykernel_87898/3448000722.py:10: MatplotlibDeprecationWarning: The get_cmap function was deprecated in Matplotlib 3.7 and will be removed two minor releases later. Use ``matplotlib.colormaps[name]`` or ``matplotlib.colormaps.get_cmap(obj)`` instead.\n",
      "  col_map = cm.get_cmap('prism')\n",
      "/tmp/ipykernel_87898/3448000722.py:35: UserWarning: *c* argument looks like a single numeric RGB or RGBA sequence, which should be avoided as value-mapping will have precedence in case its length matches with *x* & *y*.  Please use the *color* keyword-argument or provide a 2D array with a single row if you intend to specify the same RGB or RGBA value for all points.\n",
      "  ax.scatter(x, y, c=label_color_dict[class_idx_dict[f'{label}']], marker='o', edgecolor='black', s=4)\n",
      "/tmp/ipykernel_87898/3448000722.py:33: UserWarning: To copy construct from a tensor, it is recommended to use sourceTensor.clone().detach() or sourceTensor.clone().detach().requires_grad_(True), rather than torch.tensor(sourceTensor).\n",
      "  x = torch.tensor(coord[0]).clone().cpu().detach()\n",
      "/tmp/ipykernel_87898/3448000722.py:34: UserWarning: To copy construct from a tensor, it is recommended to use sourceTensor.clone().detach() or sourceTensor.clone().detach().requires_grad_(True), rather than torch.tensor(sourceTensor).\n",
      "  y = torch.tensor(coord[1]).clone().cpu().detach()\n"
     ]
    },
    {
     "data": {
      "image/png": "[encoded data removed]",
      "text/plain": [
       "<Figure size 900x900 with 1 Axes>"
      ]
     },
     "metadata": {},
     "output_type": "display_data"
    }
   ],
   "source": [
    "inp = inp.cpu()\n",
    "figsize = (3, 3)\n",
    "fig, ax = plt.subplots(1,figsize=figsize, dpi=300)\n",
    "ax.set_xlim(xlow, xhigh)\n",
    "ax.set_ylim(ylow, yhigh)\n",
    "\n",
    "from matplotlib import cm\n",
    "from matplotlib.colors import LinearSegmentedColormap\n",
    "\n",
    "col_map = cm.get_cmap('prism')\n",
    "cmaplist = [col_map(i) for i in range(col_map.N)]\n",
    "# classes = ['0', '1', '2', '3', '4',\n",
    "#                 '5', '6', '7', '8', '9']\n",
    "cmaplist = cmaplist[:len(classes_total)]\n",
    "col_map = LinearSegmentedColormap.from_list('custom_colormap', cmaplist, N=len(classes_total))\n",
    "label_color_dict = dict(zip([*range(len(classes_total))], cmaplist))\n",
    "\n",
    "inp_color = [label_color_dict[class_idx_dict[f'{i}']] for i in list(np.array(out_class.cpu().detach()))]\n",
    "\n",
    "markers = [plt.Line2D([0,0],[0,0],color=color, marker='o', linestyle='') for color in label_color_dict.values()]\n",
    "legend1 = plt.legend(markers, classes_total, numpoints=1, bbox_to_anchor=(1.01, 1), fontsize=5, title='Prediction', title_fontsize=5) # , title='Test'\n",
    "plt.xticks(fontsize=5)\n",
    "plt.yticks(fontsize=5)\n",
    "# legend1.set_title('Test', size=5)\n",
    "\n",
    "ax.scatter(inp[:, 0], inp[:, 1], \n",
    "        c=inp_color, alpha=0.5, s=2)\n",
    "\n",
    "coords = planeloader.dataset.coords\n",
    "for i, image in enumerate(images):\n",
    "        coord = coords[i]\n",
    "        label = labels[i].item()\n",
    "        x = torch.tensor(coord[0]).clone().cpu().detach()\n",
    "        y = torch.tensor(coord[1]).clone().cpu().detach()\n",
    "        ax.scatter(x, y, c=label_color_dict[class_idx_dict[f'{label}']], marker='o', edgecolor='black', s=4)\n",
    "        plt.text(x, y, label, fontsize=5)\n",
    "\n",
    "\n",
    "# for i, image in enumerate(images):\n",
    "#         img = inv_normalize(image)\n",
    "#         img = img.cpu().detach().numpy().transpose(1,2,0)\n",
    "#         from PIL import Image\n",
    "#         img = img*255\n",
    "#         img = img.astype(np.uint8)\n",
    "#         img = Image.fromarray(img).resize(size=(28, 28))\n",
    "#         img = np.array(img)\n",
    "\n",
    "#         coord = coords[i]\n",
    "#         imscatter(torch.tensor(coord[0]).clone().cpu().detach(), torch.tensor(coord[1]).clone().cpu().detach(), img, ax)"
   ]
  },
  {
   "cell_type": "code",
   "execution_count": 103,
   "metadata": {},
   "outputs": [
    {
     "data": {
      "text/plain": [
       "[(0.9686274509803922, 0.9882352941176471, 0.9921568627450981, 1.0),\n",
       " (0.9664129181084199, 0.9873740868896579, 0.9916647443291042, 1.0)]"
      ]
     },
     "execution_count": 103,
     "metadata": {},
     "output_type": "execute_result"
    }
   ],
   "source": [
    "cmaplist"
   ]
  },
  {
   "cell_type": "code",
   "execution_count": 105,
   "metadata": {},
   "outputs": [
    {
     "name": "stderr",
     "output_type": "stream",
     "text": [
      "/tmp/ipykernel_87898/3212723552.py:10: MatplotlibDeprecationWarning: The get_cmap function was deprecated in Matplotlib 3.7 and will be removed two minor releases later. Use ``matplotlib.colormaps[name]`` or ``matplotlib.colormaps.get_cmap(obj)`` instead.\n",
      "  col_map = cm.get_cmap('RdBu')\n",
      "/tmp/ipykernel_87898/3212723552.py:35: UserWarning: *c* argument looks like a single numeric RGB or RGBA sequence, which should be avoided as value-mapping will have precedence in case its length matches with *x* & *y*.  Please use the *color* keyword-argument or provide a 2D array with a single row if you intend to specify the same RGB or RGBA value for all points.\n",
      "  ax.scatter(x, y, c=label_color_dict[class_idx_dict[f'{label}']], marker='o', edgecolor='black', s=4)\n",
      "/tmp/ipykernel_87898/3212723552.py:33: UserWarning: To copy construct from a tensor, it is recommended to use sourceTensor.clone().detach() or sourceTensor.clone().detach().requires_grad_(True), rather than torch.tensor(sourceTensor).\n",
      "  x = torch.tensor(coord[0]).clone().cpu().detach()\n",
      "/tmp/ipykernel_87898/3212723552.py:34: UserWarning: To copy construct from a tensor, it is recommended to use sourceTensor.clone().detach() or sourceTensor.clone().detach().requires_grad_(True), rather than torch.tensor(sourceTensor).\n",
      "  y = torch.tensor(coord[1]).clone().cpu().detach()\n"
     ]
    },
    {
     "data": {
      "image/png": "[encoded data removed]",
      "text/plain": [
       "<Figure size 900x900 with 1 Axes>"
      ]
     },
     "metadata": {},
     "output_type": "display_data"
    }
   ],
   "source": [
    "inp = inp.cpu()\n",
    "figsize = (3, 3)\n",
    "fig, ax = plt.subplots(1,figsize=figsize, dpi=300)\n",
    "ax.set_xlim(xlow, xhigh)\n",
    "ax.set_ylim(ylow, yhigh)\n",
    "\n",
    "from matplotlib import cm\n",
    "from matplotlib.colors import LinearSegmentedColormap\n",
    "\n",
    "col_map = cm.get_cmap('RdBu')\n",
    "cmaplist = [col_map(i) for i in range(col_map.N)]\n",
    "# classes = ['0', '1', '2', '3', '4',\n",
    "#                 '5', '6', '7', '8', '9']\n",
    "cmaplist = cmaplist[:len(classes_total)]\n",
    "col_map = LinearSegmentedColormap.from_list('custom_colormap', cmaplist, N=len(classes_total))\n",
    "label_color_dict = dict(zip([*range(len(classes_total))], cmaplist))\n",
    "\n",
    "inp_color = [label_color_dict[class_idx_dict[f'{i}']] for i in list(np.array(out_class.cpu().detach()))]\n",
    "\n",
    "markers = [plt.Line2D([0,0],[0,0],color=color, marker='o', linestyle='') for color in label_color_dict.values()]\n",
    "legend1 = plt.legend(markers, classes_total, numpoints=1, bbox_to_anchor=(1.01, 1), fontsize=5, title='Prediction', title_fontsize=5) # , title='Test'\n",
    "plt.xticks(fontsize=5)\n",
    "plt.yticks(fontsize=5)\n",
    "# legend1.set_title('Test', size=5)\n",
    "\n",
    "ax.scatter(inp[:, 0], inp[:, 1], \n",
    "        c=inp_color, alpha=0.5, s=2)\n",
    "\n",
    "coords = planeloader.dataset.coords\n",
    "for i, image in enumerate(images):\n",
    "        coord = coords[i]\n",
    "        label = labels[i].item()\n",
    "        x = torch.tensor(coord[0]).clone().cpu().detach()\n",
    "        y = torch.tensor(coord[1]).clone().cpu().detach()\n",
    "        ax.scatter(x, y, c=label_color_dict[class_idx_dict[f'{label}']], marker='o', edgecolor='black', s=4)\n",
    "        plt.text(x, y, label, fontsize=5)\n",
    "\n",
    "\n",
    "# for i, image in enumerate(images):\n",
    "#         img = inv_normalize(image)\n",
    "#         img = img.cpu().detach().numpy().transpose(1,2,0)\n",
    "#         from PIL import Image\n",
    "#         img = img*255\n",
    "#         img = img.astype(np.uint8)\n",
    "#         img = Image.fromarray(img).resize(size=(28, 28))\n",
    "#         img = np.array(img)\n",
    "\n",
    "#         coord = coords[i]\n",
    "#         imscatter(torch.tensor(coord[0]).clone().cpu().detach(), torch.tensor(coord[1]).clone().cpu().detach(), img, ax)"
   ]
  },
  {
   "cell_type": "code",
   "execution_count": null,
   "metadata": {},
   "outputs": [],
   "source": []
  }
 ],
 "metadata": {
  "kernelspec": {
   "display_name": "proto",
   "language": "python",
   "name": "python3"
  },
  "language_info": {
   "codemirror_mode": {
    "name": "ipython",
    "version": 3
   },
   "file_extension": ".py",
   "mimetype": "text/x-python",
   "name": "python",
   "nbconvert_exporter": "python",
   "pygments_lexer": "ipython3",
   "version": "3.8.0"
  }
 },
 "nbformat": 4,
 "nbformat_minor": 2
}
